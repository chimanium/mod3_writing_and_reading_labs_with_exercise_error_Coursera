{
  "metadata": {
    "kernelspec": {
      "name": "python",
      "display_name": "Python (Pyodide)",
      "language": "python"
    },
    "language_info": {
      "codemirror_mode": {
        "name": "python",
        "version": 3
      },
      "file_extension": ".py",
      "mimetype": "text/x-python",
      "name": "python",
      "nbconvert_exporter": "python",
      "pygments_lexer": "ipython3",
      "version": "3.8"
    }
  },
  "nbformat_minor": 4,
  "nbformat": 4,
  "cells": [
    {
      "cell_type": "code",
      "source": "#Creating my first file\n\nwith open (\"Example1.txt\", 'w') as file1:\n    file1.write('this is line A/n')\n    file1.write('this is line B/n')",
      "metadata": {
        "trusted": true
      },
      "outputs": [],
      "execution_count": 3
    },
    {
      "cell_type": "code",
      "source": "#Writing Multiple Lines in Python\n\nLines = ['This is line 1', 'This is Line 2', 'this is line 3', 'this the final line 4']\n\n#Now using the loop\nwith open ('example2.txt', 'w') as file2:\n    for line in Lines:\n        file2.write(line + '/n')\n    ",
      "metadata": {
        "trusted": true
      },
      "outputs": [],
      "execution_count": 13
    },
    {
      "cell_type": "code",
      "source": "#Appending Data to a file\n\nnew_data = ['This is a new Line C']\n\n#Using the append mode and loop to add to the file\n\nwith open('example2.txt', 'a') as file2:\n    file2.write(data + '/n')",
      "metadata": {
        "trusted": true
      },
      "outputs": [],
      "execution_count": 25
    },
    {
      "cell_type": "code",
      "source": "#Copying File from one destination to another.\n\n# Opening the Source file\n\nwith open('Source_File.txt', 'r') as source_file:\n\n\n#Opening Destination file\n\n        with open ('Destination_File.txt', 'w') as destination_file:\n            for line in source_file:\n                destination_file.write(line + '/n')\n                \n",
      "metadata": {
        "trusted": true
      },
      "outputs": [],
      "execution_count": 46
    },
    {
      "cell_type": "code",
      "source": "# A new method of writing file\n\nexmp1 = '/sample.txt'\n\nwith open (exmp1, 'w') as writefile:\n    writefile.write('this is line 1 \\n')",
      "metadata": {
        "trusted": true
      },
      "outputs": [],
      "execution_count": 41
    },
    {
      "cell_type": "code",
      "source": "#Seeing output from a readfile\n\nwith open (exmp1, 'r') as testwritefile:\n    print(testwritefile.read())",
      "metadata": {
        "trusted": true
      },
      "outputs": [
        {
          "name": "stdout",
          "text": "this is line 1 /n\n",
          "output_type": "stream"
        }
      ],
      "execution_count": 42
    },
    {
      "cell_type": "code",
      "source": "#Writing multiple lines to the file\n\nwith open (exmp1, 'w') as writefile:\n    writefile.write('This is Line A \\n')\n    writefile.write('This is line B\\n')\n\n    \nwith open (exmp1, 'r') as testwritefile:\n        print(testwritefile.read())",
      "metadata": {
        "trusted": true
      },
      "outputs": [
        {
          "name": "stdout",
          "text": "This is Line A \nThis is line B\n\n",
          "output_type": "stream"
        }
      ],
      "execution_count": 57
    },
    {
      "cell_type": "code",
      "source": "#Multiple file writing again\n\n#Creating the list\n\nLines = ['This is Line1\\n', 'This is Line2\\n', 'This is Line3']\nLines",
      "metadata": {
        "trusted": true,
        "tags": [],
        "editable": true,
        "slideshow": {
          "slide_type": ""
        }
      },
      "outputs": [
        {
          "execution_count": 65,
          "output_type": "execute_result",
          "data": {
            "text/plain": "['This is Line1\\n', 'This is Line2\\n', 'This is Line3']"
          },
          "metadata": {}
        }
      ],
      "execution_count": 65
    },
    {
      "cell_type": "code",
      "source": "#Writing to a file\nexmp2 = '/example2.txt'\n\nwith open (exmp2, 'w') as writefile:\n    for line in Lines:\n        writefile.write(line + '\\n' )",
      "metadata": {
        "trusted": true
      },
      "outputs": [],
      "execution_count": 66
    },
    {
      "cell_type": "code",
      "source": "with open (exmp2, 'r') as testwritefile:\n    print (testwritefile.read())",
      "metadata": {
        "trusted": true
      },
      "outputs": [
        {
          "name": "stdout",
          "text": "This is Line1\n\nThis is Line2\n\nThis is Line3\n\n",
          "output_type": "stream"
        }
      ],
      "execution_count": 67
    },
    {
      "cell_type": "code",
      "source": "#Showing that the 'w' mode overwrites a file\n\nwith open (exmp2, 'w') as writefile:\n    writefile.write('Override \\n')\n\nwith open (exmp2, 'r') as testwritefile:\n    print (testwritefile.read())",
      "metadata": {
        "trusted": true
      },
      "outputs": [
        {
          "name": "stdout",
          "text": "Override \n\n",
          "output_type": "stream"
        }
      ],
      "execution_count": 79
    },
    {
      "cell_type": "code",
      "source": "#Using the append mode\n\nwith open (exmp2, 'a') as testwritefile1:\n    testwritefile1.write ('This is an additional line 1 \\n')\n    testwritefile1.write ('This is an additional line 2 \\n')\n    testwritefile1.write ('This is an additional line 3 \\n')\n    testwritefile1.write ('This is an additional line 4 \\n')\n\nwith open (exmp2, 'r') as testwritefile:\n    print(testwritefile.read())",
      "metadata": {
        "trusted": true
      },
      "outputs": [
        {
          "name": "stdout",
          "text": "Override \nThis is an additional line 1 \nThis is an additional line 2 \nThis is an additional line 3 \nThis is an additional line 4 \n\n",
          "output_type": "stream"
        }
      ],
      "execution_count": 80
    },
    {
      "cell_type": "code",
      "source": "# Trying the additional append mode a+, and moving the cursor to print output\n\nwith open ('/example2.txt', 'a+') as testwritefile:\n    print ('initial postion {} is'.format(testwritefile.tell()))\n\n    data = testwritefile.read()\n\n    if (not data) :\n        print ('read nothing')\n    else:\n        print (data)\n\n    testwritefile.seek(0,0)\n    print ('\\n New Location is {}'.format(testwritefile.tell()))\n\n    data = testwritefile.read()\n    if (not data):\n        print('read nothing')\n\n    else:\n        print (data)\n\n    print ('\\n Final location is {}'.format(testwritefile.tell()))",
      "metadata": {
        "trusted": true
      },
      "outputs": [
        {
          "name": "stdout",
          "text": "initial postion 130 is\nread nothing\n\n New Location is 0\nOverride \nThis is an additional line 1 \nThis is an additional line 2 \nThis is an additional line 3 \nThis is an additional line 4 \n\n\n Final location is 130\n",
          "output_type": "stream"
        }
      ],
      "execution_count": 86
    },
    {
      "cell_type": "code",
      "source": "# The additional mode w+\n\nwith open ('/example2.txt', 'w+') as testwritefile:\n           testwritefile.write('This is line 1 \\n')\n           testwritefile.write('this is line 2 \\n')\n           testwritefile.write('this is Line 3 \\n')\n           testwritefile.write('this IS line 4 \\n')\n           testwritefile.write('this is a finished line')\n\n           testwritefile.seek(0,0)\n           print(testwritefile.read())",
      "metadata": {
        "trusted": true
      },
      "outputs": [
        {
          "name": "stdout",
          "text": "This is line 1 \nthis is line 2 \nthis is Line 3 \nthis IS line 4 \nthis is a finished line\n",
          "output_type": "stream"
        }
      ],
      "execution_count": 96
    },
    {
      "cell_type": "code",
      "source": "# Assignment\n\n''' Your local university's Raptors fan club maintains a register of its active members on a .txt document. Every month they update the file by removing the members who are not active. You have been tasked with automating this with your Python skills.\nGiven the file currentMem, Remove each member with a 'no' in their Active column. Keep track of each of the removed members and append them to the exMem file. Make sure that the format of the original files in preserved. (Hint: Do this by reading/writing whole lines and ensuring the header remains )\nRun the code block below prior to starting the exercise. The skeleton code has been provided for you. Edit only the cleanFiles function.\n\n'''",
      "metadata": {
        "trusted": true
      },
      "outputs": [
        {
          "execution_count": 97,
          "output_type": "execute_result",
          "data": {
            "text/plain": "\" Your local university's Raptors fan club maintains a register of its active members on a .txt document. Every month they update the file by removing the members who are not active. You have been tasked with automating this with your Python skills.\\nGiven the file currentMem, Remove each member with a 'no' in their Active column. Keep track of each of the removed members and append them to the exMem file. Make sure that the format of the original files in preserved. (Hint: Do this by reading/writing whole lines and ensuring the header remains )\\nRun the code block below prior to starting the exercise. The skeleton code has been provided for you. Edit only the cleanFiles function.\\n\\n\""
          },
          "metadata": {}
        }
      ],
      "execution_count": 97
    },
    {
      "cell_type": "code",
      "source": "#Exercise pre-defined function\nfrom random import randint as rnd\n\nmemReg = '/members.txt'\nexReg = ' inactive.txt'\nfee = ('yes', 'no')\n\ndef genFiles (current, old):\n    with open (current, 'w+') as writefile:\n        writefile.write('Membership no Date Joined Active \\n')\n        data = '{:^11} {:<10} {:<5}\\n'\n\n    for rowno in range(20):\n        date = str(rnd (2015, 2025)) + '-' + str (rnd(1,12)) + '-' + str(rnd(1,25))\n        writefile.write(data.format(rnd(10000,99999), date, fee[rnd(0,1)]))\n\n\n    with open (old, 'w+') as writefile:\n        writefile.write('Membership no Date Joined Active \\n')\n        data = '{:^11} {:<10} {:<6}\\n'\n\n\n        for rowno in range(3):\n            date = str (rnd(2015, 2025)) + '-' + str(rnd(1,12))+ '-' + str(rnd(1-25))\n            writefile.write(data.format(rnd(10000, 99999)), date, fee[1])\n\n\ngenFiles(memReg, exReg)\n        ",
      "metadata": {
        "trusted": true
      },
      "outputs": [
        {
          "ename": "<class 'ValueError'>",
          "evalue": "I/O operation on closed file.",
          "traceback": [
            "\u001b[0;31m---------------------------------------------------------------------------\u001b[0m",
            "\u001b[0;31mValueError\u001b[0m                                Traceback (most recent call last)",
            "Cell \u001b[0;32mIn[109], line 28\u001b[0m\n\u001b[1;32m     24\u001b[0m             date \u001b[38;5;241m=\u001b[39m \u001b[38;5;28mstr\u001b[39m (rnd(\u001b[38;5;241m2015\u001b[39m, \u001b[38;5;241m2025\u001b[39m)) \u001b[38;5;241m+\u001b[39m \u001b[38;5;124m'\u001b[39m\u001b[38;5;124m-\u001b[39m\u001b[38;5;124m'\u001b[39m \u001b[38;5;241m+\u001b[39m \u001b[38;5;28mstr\u001b[39m(rnd(\u001b[38;5;241m1\u001b[39m,\u001b[38;5;241m12\u001b[39m))\u001b[38;5;241m+\u001b[39m \u001b[38;5;124m'\u001b[39m\u001b[38;5;124m-\u001b[39m\u001b[38;5;124m'\u001b[39m \u001b[38;5;241m+\u001b[39m \u001b[38;5;28mstr\u001b[39m(rnd(\u001b[38;5;241m1\u001b[39m\u001b[38;5;241m-\u001b[39m\u001b[38;5;241m25\u001b[39m))\n\u001b[1;32m     25\u001b[0m             writefile\u001b[38;5;241m.\u001b[39mwrite(data\u001b[38;5;241m.\u001b[39mformat(rnd(\u001b[38;5;241m10000\u001b[39m, \u001b[38;5;241m99999\u001b[39m)), date, fee[\u001b[38;5;241m1\u001b[39m])\n\u001b[0;32m---> 28\u001b[0m \u001b[43mgenFiles\u001b[49m\u001b[43m(\u001b[49m\u001b[43mmemReg\u001b[49m\u001b[43m,\u001b[49m\u001b[43m \u001b[49m\u001b[43mexReg\u001b[49m\u001b[43m)\u001b[49m\n",
            "Cell \u001b[0;32mIn[109], line 15\u001b[0m, in \u001b[0;36mgenFiles\u001b[0;34m(current, old)\u001b[0m\n\u001b[1;32m     13\u001b[0m \u001b[38;5;28;01mfor\u001b[39;00m rowno \u001b[38;5;129;01min\u001b[39;00m \u001b[38;5;28mrange\u001b[39m(\u001b[38;5;241m20\u001b[39m):\n\u001b[1;32m     14\u001b[0m     date \u001b[38;5;241m=\u001b[39m \u001b[38;5;28mstr\u001b[39m(rnd (\u001b[38;5;241m2015\u001b[39m, \u001b[38;5;241m2025\u001b[39m)) \u001b[38;5;241m+\u001b[39m \u001b[38;5;124m'\u001b[39m\u001b[38;5;124m-\u001b[39m\u001b[38;5;124m'\u001b[39m \u001b[38;5;241m+\u001b[39m \u001b[38;5;28mstr\u001b[39m (rnd(\u001b[38;5;241m1\u001b[39m,\u001b[38;5;241m12\u001b[39m)) \u001b[38;5;241m+\u001b[39m \u001b[38;5;124m'\u001b[39m\u001b[38;5;124m-\u001b[39m\u001b[38;5;124m'\u001b[39m \u001b[38;5;241m+\u001b[39m \u001b[38;5;28mstr\u001b[39m(rnd(\u001b[38;5;241m1\u001b[39m,\u001b[38;5;241m25\u001b[39m))\n\u001b[0;32m---> 15\u001b[0m     \u001b[43mwritefile\u001b[49m\u001b[38;5;241;43m.\u001b[39;49m\u001b[43mwrite\u001b[49m\u001b[43m(\u001b[49m\u001b[43mdata\u001b[49m\u001b[38;5;241;43m.\u001b[39;49m\u001b[43mformat\u001b[49m\u001b[43m(\u001b[49m\u001b[43mrnd\u001b[49m\u001b[43m(\u001b[49m\u001b[38;5;241;43m10000\u001b[39;49m\u001b[43m,\u001b[49m\u001b[38;5;241;43m99999\u001b[39;49m\u001b[43m)\u001b[49m\u001b[43m,\u001b[49m\u001b[43m \u001b[49m\u001b[43mdate\u001b[49m\u001b[43m,\u001b[49m\u001b[43m \u001b[49m\u001b[43mfee\u001b[49m\u001b[43m[\u001b[49m\u001b[43mrnd\u001b[49m\u001b[43m(\u001b[49m\u001b[38;5;241;43m0\u001b[39;49m\u001b[43m,\u001b[49m\u001b[38;5;241;43m1\u001b[39;49m\u001b[43m)\u001b[49m\u001b[43m]\u001b[49m\u001b[43m)\u001b[49m\u001b[43m)\u001b[49m\n\u001b[1;32m     18\u001b[0m \u001b[38;5;28;01mwith\u001b[39;00m \u001b[38;5;28mopen\u001b[39m (old, \u001b[38;5;124m'\u001b[39m\u001b[38;5;124mw+\u001b[39m\u001b[38;5;124m'\u001b[39m) \u001b[38;5;28;01mas\u001b[39;00m writefile:\n\u001b[1;32m     19\u001b[0m     writefile\u001b[38;5;241m.\u001b[39mwrite(\u001b[38;5;124m'\u001b[39m\u001b[38;5;124mMembership no Date Joined Active \u001b[39m\u001b[38;5;130;01m\\n\u001b[39;00m\u001b[38;5;124m'\u001b[39m)\n",
            "\u001b[0;31mValueError\u001b[0m: I/O operation on closed file."
          ],
          "output_type": "error"
        }
      ],
      "execution_count": 109
    },
    {
      "cell_type": "code",
      "source": "",
      "metadata": {
        "trusted": true
      },
      "outputs": [],
      "execution_count": null
    }
  ]
}